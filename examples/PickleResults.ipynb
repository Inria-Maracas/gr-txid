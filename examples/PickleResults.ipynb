{
 "cells": [
  {
   "cell_type": "code",
   "execution_count": null,
   "metadata": {
    "collapsed": true
   },
   "outputs": [],
   "source": [
    "import numpy as np\n",
    "import pickle"
   ]
  },
  {
   "cell_type": "code",
   "execution_count": null,
   "metadata": {
    "collapsed": true
   },
   "outputs": [],
   "source": [
    "\n",
    "folder = \"results/20190427_16h10/\"\n",
    "\n",
    "file_prefix = \"enreg\""
   ]
  },
  {
   "cell_type": "code",
   "execution_count": 32,
   "metadata": {},
   "outputs": [],
   "source": [
    "nb_tx = 21\n",
    "nb_rx = 1\n",
    "tx_offset = 0\n",
    "offset = 0\n",
    "file_re = [[]]\n",
    "file_im = [[]]\n",
    "for j in range(tx_offset,nb_tx+tx_offset):\n",
    "    file_re.append([])\n",
    "    file_im.append([])\n",
    "    for i in range(offset, nb_rx+offset):\n",
    "        file_re[j-tx_offset].append('{0}re_{1:02d}_{2}.bin'.format(folder, i,j))\n",
    "        file_im[j-tx_offset].append('{0}im_{1:02d}_{2}.bin'.format(folder, i,j))\n"
   ]
  },
  {
   "cell_type": "code",
   "execution_count": null,
   "metadata": {},
   "outputs": [],
   "source": [
    "packet_size = 600\n",
    "\n",
    "cut_proportion = 1 #If we don't want to use the whole dataset\n",
    "print (\"Nb de Tx : \", nb_tx)"
   ]
  },
  {
   "cell_type": "code",
   "execution_count": null,
   "metadata": {},
   "outputs": [],
   "source": [
    "for rx in range(nb_rx):\n",
    "    valeur_re = np.array([])\n",
    "    valeur_im = np.array([])\n",
    "    label = None \n",
    "    for tx in range(nb_tx):\n",
    "\n",
    "        tmp_re = np.fromfile(file_re[tx][rx], dtype=np.float32, count=-1)\n",
    "        tmp_im = np.fromfile(file_im[tx][rx], dtype=np.float32, count=-1)\n",
    "        nb_p = (tmp_im.shape[0]//packet_size)\n",
    "        cut_pos = int(nb_p * cut_proportion)\n",
    "        \n",
    "        valeur_re = np.append(valeur_re, tmp_re[:packet_size*(cut_pos)]) #Ensure case where files have partially written packets at the end      \n",
    "        valeur_im = np.append(valeur_im, tmp_im[:packet_size*(cut_pos)])\n",
    "        \n",
    "        if label is None:\n",
    "            label = np.stack(((tx)*np.ones(cut_pos), (rx)*np.ones(cut_pos)), axis = 1)\n",
    "        else:\n",
    "            label = np.append(label, np.stack(((tx)*np.ones(cut_pos), (rx)*np.ones(cut_pos)), axis = 1) , axis=0)\n",
    "\n",
    "            \n",
    "    nb_packets = valeur_re.shape[0] //packet_size\n",
    "\n",
    "    \n",
    "    if (rx == 0):\n",
    "        vecteur_re = valeur_re[:packet_size*nb_packets].reshape(nb_packets, packet_size)\n",
    "        vecteur_im = valeur_im[:packet_size*nb_packets].reshape(nb_packets, packet_size)\n",
    "        labels = label\n",
    "\n",
    "    else:\n",
    "        vecteur_re = np.concatenate((vecteur_re, valeur_re[:packet_size*nb_packets].reshape(nb_packets, packet_size)), axis=0)\n",
    "        vecteur_im = np.concatenate((vecteur_im, valeur_im[:packet_size*nb_packets].reshape(nb_packets, packet_size)), axis=0)\n",
    "        labels = np.concatenate((labels, label), axis=0)\n",
    "\n",
    "    \n",
    "    valeur_re = valeur_re[:packet_size*nb_packets].reshape(nb_packets, packet_size)\n",
    "    valeur_im = valeur_im[:packet_size*nb_packets].reshape(nb_packets, packet_size)\n"
   ]
  },
  {
   "cell_type": "code",
   "execution_count": null,
   "metadata": {
    "collapsed": true
   },
   "outputs": [],
   "source": [
    "pickle_prefix = \"pickle_rx\"\n",
    "\n",
    "file_real = open(folder + pickle_prefix + \"_real\",'wb')\n",
    "pickle.dump(vecteur_re, file_real, protocol=4)\n",
    "file_real.close()\n",
    "\n",
    "file_imag = open(folder + pickle_prefix + \"_imag\",'wb')\n",
    "pickle.dump(vecteur_im, file_imag, protocol=4)\n",
    "file_imag.close()\n",
    "\n",
    "file_labels = open(folder + pickle_prefix + \"_labels\",'wb')\n",
    "pickle.dump(labels, file_labels, protocol=4)\n",
    "file_labels.close()\n"
   ]
  }
 ],
 "metadata": {
  "kernelspec": {
   "display_name": "Python 3",
   "language": "python",
   "name": "python3"
  },
  "language_info": {
   "codemirror_mode": {
    "name": "ipython",
    "version": 3
   },
   "file_extension": ".py",
   "mimetype": "text/x-python",
   "name": "python",
   "nbconvert_exporter": "python",
   "pygments_lexer": "ipython3",
   "version": "3.5.2"
  }
 },
 "nbformat": 4,
 "nbformat_minor": 2
}
